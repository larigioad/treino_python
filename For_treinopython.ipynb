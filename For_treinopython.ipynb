{
  "nbformat": 4,
  "nbformat_minor": 0,
  "metadata": {
    "colab": {
      "provenance": [],
      "authorship_tag": "ABX9TyMVcD4ryl4qfp+wh6+z/kAk",
      "include_colab_link": true
    },
    "kernelspec": {
      "name": "python3",
      "display_name": "Python 3"
    },
    "language_info": {
      "name": "python"
    }
  },
  "cells": [
    {
      "cell_type": "markdown",
      "metadata": {
        "id": "view-in-github",
        "colab_type": "text"
      },
      "source": [
        "<a href=\"https://colab.research.google.com/github/larigioad/treino_python/blob/main/For_treinopython.ipynb\" target=\"_parent\"><img src=\"https://colab.research.google.com/assets/colab-badge.svg\" alt=\"Open In Colab\"/></a>"
      ]
    },
    {
      "cell_type": "code",
      "execution_count": null,
      "metadata": {
        "id": "3wRUVhjBqX9u"
      },
      "outputs": [],
      "source": [
        "# 1) Criar um algoritmo em Python que imprima todos os números de 1 até 100, inclusive, e a soma de todos eles.\n",
        "\n",
        "soma = 0\n",
        "\n",
        "for i in range(1, 101):\n",
        "  print(i, end=' ')\n",
        "  soma += i\n",
        "\n",
        "print(\"\\n\")\n",
        "print(soma)\n"
      ]
    },
    {
      "cell_type": "code",
      "source": [
        "# 2) Crie um algoritmo em Python que leia 3 números inteiros e os apresente em ordem crescente.\n",
        "\n",
        "numeros = []\n",
        "\n",
        "for i in range(1, 4):\n",
        "  n = int(input(f\"Digite o {i}º número: \"))\n",
        "  numeros.append(n)\n",
        "\n",
        "numeros.sort()\n",
        "print(numeros)\n"
      ],
      "metadata": {
        "id": "N56-JmSerhZP"
      },
      "execution_count": null,
      "outputs": []
    },
    {
      "cell_type": "code",
      "source": [
        "# 3) Crie um algoritmo em Python que receba 15 números inteiros e imprima quantos números maiores que 30 foram digitados.\n",
        "\n",
        "numeros = 0\n",
        "\n",
        "for i in range(1, 16):\n",
        "  n = int(input(f\"Digite o {i}º número: \"))\n",
        "  if n > 30:\n",
        "    numeros += 1\n",
        "\n",
        "print(f\"Foram digitados {numeros} números maiores que 30.\")\n"
      ],
      "metadata": {
        "id": "-Y7JbxmHsLkp"
      },
      "execution_count": null,
      "outputs": []
    },
    {
      "cell_type": "code",
      "source": [
        "# 4) Escreva um programa em Python que leia 10 números e diga quantos números positivos maiores que 15 foram digitados.\n",
        "\n",
        "numeros = 0\n",
        "\n",
        "for i in range(1, 11):\n",
        "  n = int(input(f\"Digite o {i}º número: \"))\n",
        "  if n > 15:\n",
        "    numeros += 1\n",
        "\n",
        "print(f\"Foram digitados {numeros} números positivos maiores que 15.\")\n"
      ],
      "metadata": {
        "id": "iu5B8khms9ze"
      },
      "execution_count": null,
      "outputs": []
    },
    {
      "cell_type": "code",
      "source": [
        "# 5) Calcule o imposto de renda de um grupo de 10 contribuintes, considerando que os dados de cada contribuinte, número do CPF, número de dependentes e renda mensal são valores fornecidos pelo usuário. Para cada contribuinte será feito um desconto de 5% do salário mínimo por dependente.\n",
        "'''\n",
        "Os valores da alíquota para cálculo do imposto são:\n",
        "Renda Líquida Alíquota\n",
        "Até 2 salários mínimos Isento\n",
        "2 a 3 salários mínimos 5%\n",
        "3 a 5 salários mínimos 10%\n",
        "5 a 7 salários mínimos 15%\n",
        "Acima de 7 salários mínimos 20%\n",
        "\n",
        "Observe que deve ser fornecido o valor atual do salário mínimo (1200) para que o algoritmo\n",
        "calcule os valores corretamente.\n",
        "'''\n",
        "\n",
        "salario_minimo = 1200\n",
        "imposto = 0\n",
        "\n",
        "for i in range(1, 11):\n",
        "  nome = input(f\"Nome do {i}º contribuinte: \")\n",
        "  cpf = input(f\"CPF do {i}º contribuinte: \")\n",
        "  dependentes = int(input(f\"Número de dependentes do {i}º contribuinte: \"))\n",
        "  renda = float(input(f\"Renda mensal do {i}º contribuinte: \"))\n",
        "\n",
        "\n",
        "  desconto_dependente = dependentes * 0.05 * (salario_minimo)\n",
        "  renda_liquida = renda - desconto_dependente\n",
        "  \n",
        "  if renda_liquida < 2 * salario_minimo:\n",
        "    print(f\"O contribuinte {nome} é isento de imposto de renda.\")\n",
        "  elif 2 * salario_minimo <= renda_liquida < 3 * salario_minimo:\n",
        "    print(f\"O imposto de renda do contribuinte {nome} é R${renda_liquida * 0.05}.\")\n",
        "  elif 3 * salario_minimo <= renda_liquida < 5 * salario_minimo:\n",
        "    print(f\"O imposto de renda do contribuinte {nome} é R${renda_liquida * 0.1}.\")\n",
        "  elif 5 * salario_minimo <= renda_liquida < 7 * salario_minimo:\n",
        "    print(f\"O imposto de renda do contribuinte {nome} é R${renda_liquida * 0.15}.\")\n",
        "  else:\n",
        "    print(f\"O imposto de renda do contribuinte {nome} é R${renda_liquida * 0.2}.\")\n",
        "    \n"
      ],
      "metadata": {
        "id": "JAa_xj4lttF8"
      },
      "execution_count": null,
      "outputs": []
    },
    {
      "cell_type": "code",
      "source": [],
      "metadata": {
        "id": "5HWZJggmpW1y"
      },
      "execution_count": null,
      "outputs": []
    }
  ]
}