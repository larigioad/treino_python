{
  "nbformat": 4,
  "nbformat_minor": 0,
  "metadata": {
    "colab": {
      "provenance": [],
      "authorship_tag": "ABX9TyMDDYNqZFPJMAsprXmx8a3T",
      "include_colab_link": true
    },
    "kernelspec": {
      "name": "python3",
      "display_name": "Python 3"
    },
    "language_info": {
      "name": "python"
    }
  },
  "cells": [
    {
      "cell_type": "markdown",
      "metadata": {
        "id": "view-in-github",
        "colab_type": "text"
      },
      "source": [
        "<a href=\"https://colab.research.google.com/github/larigioad/treino_python/blob/main/Treino_Python1.ipynb\" target=\"_parent\"><img src=\"https://colab.research.google.com/assets/colab-badge.svg\" alt=\"Open In Colab\"/></a>"
      ]
    },
    {
      "cell_type": "code",
      "execution_count": null,
      "metadata": {
        "id": "-D9uXMPZQLvT"
      },
      "outputs": [],
      "source": [
        "numero = int(input(\"Digite um número inteiro: \"))\n",
        "\n",
        "print(f\"O antecessor de {numero} é {numero -1}\")"
      ]
    },
    {
      "cell_type": "code",
      "source": [
        "base = int(input(\"Qual a base do retângulo em centímetros? \"))\n",
        "altura = int(input(\"Qual a altura do retângulo em centímetros ?\"))\n",
        "\n",
        "area = base * altura\n",
        "\n",
        "print(f\"A área do retângulo é {area}cm²\")\n"
      ],
      "metadata": {
        "id": "a834npmVQ6Go"
      },
      "execution_count": null,
      "outputs": []
    },
    {
      "cell_type": "code",
      "source": [
        "idade_anos = int(input(\"Qual a sua idade? \"))\n",
        "idade_meses = idade_anos * 12\n",
        "idade_dias = idade_meses * 30\n",
        "\n",
        "print(f\"Sua idade em meses é {idade_meses} meses.\")\n",
        "\n",
        "print(f\"Sua idade em dias é {idade_dias} dias.\")"
      ],
      "metadata": {
        "id": "XuSdp7XwTB8c"
      },
      "execution_count": null,
      "outputs": []
    },
    {
      "cell_type": "code",
      "source": [
        "total_eleitores = int(input(\"Digite o total de eleitores: \"))\n",
        "votos_brancos = int(input(\"Digite a quantidade de votos brancos: \"))\n",
        "votos_nulos = int(input(\"Digite a quantidade de votos nulos: \"))\n",
        "porcentagem_votos_brancos = (votos_brancos/total_eleitores) * 100\n",
        "porcentagem_votos_nulos = (votos_nulos/total_eleitores) * 100\n",
        "\n",
        "print(f\"A porcentagem de votos brancos foi de {porcentagem_votos_brancos}%.\")\n",
        "print(f\"A porcentagem de votos nulos foi de {porcentagem_votos_nulos}%\")"
      ],
      "metadata": {
        "id": "8UciQlplWQvn"
      },
      "execution_count": null,
      "outputs": []
    },
    {
      "cell_type": "code",
      "source": [
        "salario_atual = float(input(\"Qual o seu salário atual? \"))\n",
        "reajuste = int(input(\"Qual o percentual de reajuste? \"))\n",
        "\n",
        "novo_salario = salario_atual + (salario_atual * (reajuste/100))\n",
        "\n",
        "print(f\"Seu novo salário é {novo_salario} reais.\")"
      ],
      "metadata": {
        "id": "WE5iY_lKXh3f"
      },
      "execution_count": null,
      "outputs": []
    }
  ]
}