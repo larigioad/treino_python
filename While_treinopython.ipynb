{
  "nbformat": 4,
  "nbformat_minor": 0,
  "metadata": {
    "colab": {
      "provenance": [],
      "authorship_tag": "ABX9TyPhX4WTPY1Q8ZHg9IPdhmFI",
      "include_colab_link": true
    },
    "kernelspec": {
      "name": "python3",
      "display_name": "Python 3"
    },
    "language_info": {
      "name": "python"
    }
  },
  "cells": [
    {
      "cell_type": "markdown",
      "metadata": {
        "id": "view-in-github",
        "colab_type": "text"
      },
      "source": [
        "<a href=\"https://colab.research.google.com/github/larigioad/treino_python/blob/main/While_treinopython.ipynb\" target=\"_parent\"><img src=\"https://colab.research.google.com/assets/colab-badge.svg\" alt=\"Open In Colab\"/></a>"
      ]
    },
    {
      "cell_type": "code",
      "execution_count": null,
      "metadata": {
        "id": "Ajc2UDhXizEZ"
      },
      "outputs": [],
      "source": [
        "# Ler 5 notas de um aluno e imprimir na tela cada uma das notas lidas:\n",
        "# contador - int\n",
        "# Calcular a média das 5 notas\n",
        "\n",
        "contador = 1\n",
        "soma = 0\n",
        "\n",
        "while contador < 6:\n",
        "  nota = float(input(f\"Digite a {contador}ª nota: \"))\n",
        "  soma += nota # vai somando cada nota e armazenando na variável soma\n",
        "  print(f\"A {contador}ª nota digitada foi {nota}\")\n",
        "  contador += 1\n",
        "\n",
        "\n",
        "media = soma / 5\n",
        "\n",
        "print(f\"A média das suas notas é {media}.\")\n"
      ]
    },
    {
      "cell_type": "code",
      "source": [
        "# PARA OBRIGAR O USUARIO DIGITAR ALGO.\n",
        "# Pedir para o usuário digitar um número positivo\n",
        "\n",
        "numero = int(input(\"Digite um número positivo: \"))\n",
        "\n",
        "while numero < 1:\n",
        "  numero = int(input(\"O número não é positivo. Digite um número positivo: \"))\n",
        "\n",
        "print(\"Obrigada!\")"
      ],
      "metadata": {
        "id": "V6YEAGWfo0-X"
      },
      "execution_count": null,
      "outputs": []
    },
    {
      "cell_type": "code",
      "source": [
        "#Outra forma de fazer: \n",
        "\n",
        "while True:\n",
        "  numero = int(input(\"Digite um número positivo: \"))\n",
        "  if numero > 0:\n",
        "    break\n",
        "\n",
        "print(\"Obrigada!\")"
      ],
      "metadata": {
        "id": "-bfp-3cMqCG3"
      },
      "execution_count": null,
      "outputs": []
    },
    {
      "cell_type": "code",
      "source": [
        "# 1) Faça um algoritmo que imprima na tela uma sequência de 10 números pares a partir do 1.\n",
        "\n",
        "contador = 2\n",
        "\n",
        "while contador < 21:\n",
        "  print(contador)\n",
        "  contador += 2\n",
        "  "
      ],
      "metadata": {
        "id": "eVcoWj5g7O9F"
      },
      "execution_count": null,
      "outputs": []
    },
    {
      "cell_type": "code",
      "source": [
        "# 2) Faça um programa que apresente na tela os 10 primeiros números negativos.\n",
        "\n",
        "contador = -1\n",
        "\n",
        "while contador > -11:\n",
        "  print(contador)\n",
        "  contador -= 1\n",
        "  \n",
        "  "
      ],
      "metadata": {
        "id": "FRzcvP6J8vWi"
      },
      "execution_count": null,
      "outputs": []
    },
    {
      "cell_type": "code",
      "source": [
        "# 3) Faça um algoritmo que leia um número positivo e imprima na tela todos os divisores desse número:\n",
        "\n",
        "n = int(input(\"Digite um número positivo: \"))\n",
        "\n",
        "while n < 1:\n",
        "  n = int(input(\"Número inválido. Digite um número maior que 0: \"))\n",
        "  \n",
        "i = 1 #contador\n",
        "\n",
        "while i <= n:\n",
        "  if n % i == 0:\n",
        "    print(i)\n",
        "  i += 1\n",
        "\n",
        "  \n",
        "\n"
      ],
      "metadata": {
        "id": "sMzajoW39LfU"
      },
      "execution_count": null,
      "outputs": []
    },
    {
      "cell_type": "code",
      "source": [
        "# 4) Faça um programa que leia N notas e mostre na tela a média das notas lidas.\n",
        "\n",
        "numero_de_notas = int(input(\"Quantas notas você gostaria de inserir? \"))\n",
        "contador = 1\n",
        "soma = 0\n",
        "\n",
        "while contador < numero_de_notas + 1:\n",
        "  nota = float(input(f\"Digite a {contador}ª nota: \"))\n",
        "  soma += nota\n",
        "  print(f\"A {contador}ª nota digitada foi {nota}.\")\n",
        "  contador += 1\n",
        "\n",
        "media = soma/numero_de_notas\n",
        "\n",
        "print(f\"A média das notas inseridas é {media:.2f}.\")"
      ],
      "metadata": {
        "id": "X0J5OfXC_gU9"
      },
      "execution_count": null,
      "outputs": []
    },
    {
      "cell_type": "code",
      "source": [
        "# 5) Escreva um algoritmo que leia um valor inicial A e uma razão R e imprima uma seqüência em P.A. contendo 10 valores:\n",
        "\n",
        "valor_inicial = int(input(\"Digite um valor inicial: \"))\n",
        "razao = int(input(\"Digite uma razão: \"))\n",
        "\n",
        "contador = 1\n",
        "\n",
        "while contador <= 10:\n",
        "  print(valor_inicial)\n",
        "  valor_inicial += razao\n",
        "  contador += 1\n"
      ],
      "metadata": {
        "id": "7xU7fGaWAlzH"
      },
      "execution_count": null,
      "outputs": []
    },
    {
      "cell_type": "code",
      "source": [
        "# 6) Escrever um algoritmo que gera e escreve os números ímpares entre 100 e 200.\n",
        "\n",
        "contador = 101\n",
        "\n",
        "while contador < 200:\n",
        "  print(contador)\n",
        "  contador += 2\n"
      ],
      "metadata": {
        "id": "B44OrlGyDNXm"
      },
      "execution_count": null,
      "outputs": []
    },
    {
      "cell_type": "code",
      "source": [
        "# 7) Crie uma tabuada do 1 ao 10 utilizando o comando while. Ex de saída: 1 x 0 = 0 1 x 1 = 1 1 x 2 = … 1 x 10 = 10\n",
        "'''\n",
        "2 x 0 = 0 2 x 1 = 2 … 2 x 10 = 20\n",
        "….\n",
        "10 x 0 = 0 10 x 1 = 10 … 10 x 10 = 100\n",
        "'''\n",
        "contador = 1\n",
        "mult = 0\n",
        "\n",
        "while contador < 11:\n",
        "  print(f\"{contador} X {mult} = {contador * mult} {contador} X {mult + 1} = {contador * (mult + 1)} {contador} X {mult + 2} = {contador * (mult + 2)} {contador} X {mult + 3} = {contador * (mult + 3)} {contador} X {mult + 4} = {contador * (mult + 4)} {contador} X {mult + 5} = {contador * (mult + 5)} {contador} X {mult + 6} = {contador * (mult + 6)} {contador} X {mult + 7} = {contador * (mult + 7)} {contador} X {mult + 8} = {contador * (mult + 8)} {contador} X {mult + 9} = {contador * (mult + 9)} {contador} X {mult + 10} = {contador * (mult + 10)}\")\n",
        "  contador += 1"
      ],
      "metadata": {
        "id": "zItDa4wjEW_D"
      },
      "execution_count": null,
      "outputs": []
    },
    {
      "cell_type": "code",
      "source": [
        "#7) JEITO CERTO DE FAZER (MELHOR)\n",
        "\n",
        "i = 1\n",
        "\n",
        "while i <= 10:\n",
        "  j = 0\n",
        "  while j <= 10:\n",
        "    print(f\"{i} X {j} = {i * j}\", end = ' ') # esse end ' ' é para não pular linha\n",
        "    j += 1\n",
        "  i += 1\n",
        "  print(\"\\n\") # para pular linha, depois de cada tabuada\n",
        " \n"
      ],
      "metadata": {
        "id": "mpo1pONSHId1"
      },
      "execution_count": null,
      "outputs": []
    },
    {
      "cell_type": "code",
      "source": [
        "# 8) Desenvolver um algoritmo que leia um número não determinado de valores e calcule e escreva a média aritmética dos valores lidos, a quantidade de valores positivos, a quantidade de valores negativos e o percentual de valores negativos e positivos.\n",
        "\n",
        "n = int(input(\"Quantos números você gostaria de inserir? \"))\n",
        "positivos = 0\n",
        "negativos = 0\n",
        "soma = 0\n",
        "contador = 1\n",
        "\n",
        "while contador < n + 1:\n",
        "  numero = int(input(f\"Digite o {contador}º número: \"))\n",
        "  if numero > 0:\n",
        "    positivos += 1\n",
        "  if numero < 0:\n",
        "    negativos += 1\n",
        "  soma += numero\n",
        "  contador += 1\n",
        "\n",
        "percentual_positivos = (positivos/n) * 100\n",
        "percentual_negativos = (negativos/n) * 100\n",
        "media = soma/n\n",
        "\n",
        "print(f\"A média dos números digitados é {media}.\")\n",
        "print(f\"Foram digitados {positivos} números positivos, correspondendo a {percentual_positivos}% dos números.\")\n",
        "print(f\"Foram digitados {negativos} números negativos, correspondento a {percentual_negativos}% dos números.\")\n"
      ],
      "metadata": {
        "id": "hG-iPZetFCZz"
      },
      "execution_count": null,
      "outputs": []
    },
    {
      "cell_type": "code",
      "source": [
        "# 8) Outro jeito de fazer, sem colcoar a quantidade de números antes:\n",
        "\n",
        "positivos = 0\n",
        "negativos = 0\n",
        "qtd_numeros = 0\n",
        "soma = 0\n",
        "\n",
        "\n",
        "while True:\n",
        "  numero = float(input(f\"Digite um número: \"))\n",
        "  soma += numero\n",
        "  qtd_numeros += 1\n",
        "  if numero > 0:\n",
        "    positivos += 1\n",
        "  if numero < 0:\n",
        "    negativos += 1\n",
        " \n",
        "\n",
        "\n",
        "  sair = input(\"Quer digitar mais um número? (S/N) \")\n",
        "  if sair.upper() == \"N\":\n",
        "    break\n",
        "\n",
        "percentual_positivos = (positivos/qtd_numeros) * 100\n",
        "percentual_negativos = (negativos/qtd_numeros) * 100\n",
        "media = soma/qtd_numeros\n",
        "\n",
        "print(f\"A média dos números digitados é {media:.2f}.\")\n",
        "print(f\"Foram digitados {positivos} números positivos, correspondendo a {percentual_positivos}% dos números.\")\n",
        "print(f\"Foram digitados {negativos} números negativos, correspondento a {percentual_negativos}% dos números.\")"
      ],
      "metadata": {
        "id": "mOmSo4tpLVSu"
      },
      "execution_count": null,
      "outputs": []
    },
    {
      "cell_type": "code",
      "source": [
        "# 9) Escrever um algoritmo que leia uma quantidade desconhecida de números e conte quantos deles estão nos seguintes intervalos: [0-25], [26-50], [51-75] e [76-100]. A entrada de dados deve terminar quando for lido um número negativo.\n",
        "# Modo de fazer já pedindo a quantidade de números:\n",
        "\n",
        "n = int(input(\"Quantos números você gostaria de inserir? \"))\n",
        "contador = 1\n",
        "intervalo_1 = 0\n",
        "intervalo_2 = 0\n",
        "intervalo_3 = 0\n",
        "intervalo_4 = 0\n",
        "outro_intervalo = 0\n",
        "\n",
        "while contador < n + 1:\n",
        "  numero = int(input(f\"Digite o {contador}º número: \"))\n",
        "  if numero < 0:\n",
        "    break\n",
        "  elif 0 <= numero <= 25:\n",
        "    intervalo_1 += 1\n",
        "  elif 26 <= numero <= 50:\n",
        "    intervalo_2 += 1\n",
        "  elif 51 <= numero <= 75:\n",
        "    intervalo_3 += 1\n",
        "  elif 76 <= numero <= 100:\n",
        "    intervalo_4 += 1\n",
        "  else:\n",
        "    outro_intervalo += 1\n",
        "  contador += 1\n",
        "\n",
        "print(f\"Foram digitados {intervalo_1} números que estão no intervalo [0-25].\")\n",
        "print(f\"Foram digitados {intervalo_2} números que estão no intervalo [26-50].\")\n",
        "print(f\"Foram digitados {intervalo_3} números que estão no intervalo [51-75].\")\n",
        "print(f\"Foram digitados {intervalo_4} números que estão no intervalo [76-100].\")\n",
        "\n",
        "\n"
      ],
      "metadata": {
        "id": "871VQtFiFMAk"
      },
      "execution_count": null,
      "outputs": []
    },
    {
      "cell_type": "code",
      "source": [
        "# 9) Modo de fazer sem pedir a quantidade de números para o usuário:\n",
        "\n",
        "intervalo_1 = 0\n",
        "intervalo_2 = 0\n",
        "intervalo_3 = 0\n",
        "intervalo_4 = 0\n",
        "outro_intervalo = 0\n",
        "\n",
        "while True:\n",
        "  n = int(input(\"Digite um número qualquer: \"))\n",
        "  if n < 0:\n",
        "    print(\"Obrigada! Volte sempre!\")\n",
        "    break\n",
        "  \n",
        "  if 0 <= n <= 25:\n",
        "    intervalo_1 += 1\n",
        "  elif 26 <= n <= 50:\n",
        "    intervalo_2 += 1\n",
        "  elif 51 <= n <= 75:\n",
        "    intervalo_3 += 1\n",
        "  elif 76 <= n <= 100:\n",
        "    intervalo_4 += 1\n",
        "  else:8\n",
        "    outro_intervalo += 1\n",
        "\n",
        "print(f\"Foram digitados {intervalo_1} números que estão no intervalo [0-25].\")\n",
        "print(f\"Foram digitados {intervalo_2} números que estão no intervalo [26-50].\")\n",
        "print(f\"Foram digitados {intervalo_3} números que estão no intervalo [51-75].\")\n",
        "print(f\"Foram digitados {intervalo_4} números que estão no intervalo [76-100].\")"
      ],
      "metadata": {
        "id": "NkbhBMeaQmUU"
      },
      "execution_count": null,
      "outputs": []
    },
    {
      "cell_type": "code",
      "source": [
        "# 10) Escreva um algoritmo que leia um valor inicial A e imprima a seqüência de valores do cálculo de A! e o seu resultado. Ex: 5! = 5 X 4 X 3 X 2 X 1 = 120\n",
        "\n",
        "numero = int(input(\"Digite um número e veja seu fatorial: \"))\n",
        "resultado = 1\n",
        "\n",
        "contador = numero\n",
        "\n",
        "while contador != 0:\n",
        "  resultado = resultado*contador\n",
        "  contador -=1  \n",
        "\n",
        "  # 5! = 5 X 4 X 3 X 2 X 1 = 120\n",
        "print(f\"{numero}! =\", end= ' ')\n",
        "    \n",
        "d = numero\n",
        "while d != 1:\n",
        "  print(f\"{d} X\", end= ' ')\n",
        "  d -= 1\n",
        "  \n",
        "print(f\"1 = {resultado}\")\n",
        "\n",
        "\n"
      ],
      "metadata": {
        "id": "le7TXQMUFPgc"
      },
      "execution_count": null,
      "outputs": []
    },
    {
      "cell_type": "code",
      "source": [
        "contador = 1\n",
        "fatorial = 1\n",
        "\n",
        "n = int(input(\"Digite um número para o cálculo do fatorial: \"))\n",
        "while n < 0:\n",
        "  n = int(input(\"Digite um valor para o cálculo do fatorial: \"))\n",
        "\n",
        "while contador <= n:\n",
        "  fatorial *= contador\n",
        "  contador += 1\n",
        "\n",
        "print(f\"O fatorial de {n} é {fatorial}.\")"
      ],
      "metadata": {
        "id": "NR_2m_AgUx07"
      },
      "execution_count": null,
      "outputs": []
    }
  ]
}