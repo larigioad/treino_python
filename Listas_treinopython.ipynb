{
  "nbformat": 4,
  "nbformat_minor": 0,
  "metadata": {
    "colab": {
      "provenance": [],
      "authorship_tag": "ABX9TyOgjo/cfyMx1xjjtW7C0ipe",
      "include_colab_link": true
    },
    "kernelspec": {
      "name": "python3",
      "display_name": "Python 3"
    },
    "language_info": {
      "name": "python"
    }
  },
  "cells": [
    {
      "cell_type": "markdown",
      "metadata": {
        "id": "view-in-github",
        "colab_type": "text"
      },
      "source": [
        "<a href=\"https://colab.research.google.com/github/larigioad/treino_python/blob/main/Listas_treinopython.ipynb\" target=\"_parent\"><img src=\"https://colab.research.google.com/assets/colab-badge.svg\" alt=\"Open In Colab\"/></a>"
      ]
    },
    {
      "cell_type": "code",
      "execution_count": null,
      "metadata": {
        "id": "8Vk5FMG6QF_w"
      },
      "outputs": [],
      "source": [
        "#ESTRUTURAS DE DADOS:\n",
        "\n",
        "# LISTAS: conjunto de dados que seguem uma ordem. Colchetes []\n",
        "\n",
        "# Lista vazia:\n",
        "carros = []\n",
        "\n",
        "# Lista com elementos:\n",
        "carros = [\"Corolla\", \"Gol\", \"Uno\"]\n",
        "precos = [2.80, 7.95, 1.05]\n",
        "idade = [10, 26, 8, 71]\n",
        "misturado = [\"Joaquim\", 10, True, 9.80]\n",
        "lista_com_lista = [\"Nome\", 10, [\"Nome\", \"Nome2\", 10.87]]\n",
        "\n",
        "lista_com_lista[2][2]\n"
      ]
    },
    {
      "cell_type": "code",
      "source": [
        "# COMO ADICIONAR E ALTERAR ELEMENTOS EM UMA LISTA:\n",
        "\n",
        "frutas = [\"Banana\", \"Abacate\"]\n",
        "\n",
        "frutas[1] = \"Amora\"\n",
        "\n",
        "frutas\n",
        "\n",
        "# ADICIONANDO UM NOVO ITEM AO FINAL: função append() - só aceita um item (parâmtetro)\n",
        "frutas.append(\"Uva\")\n",
        "\n",
        "frutas\n",
        "\n",
        "# ADICIONANDO UM NOVO ITEM NO INICIO OU EM QUALQUER INDICE DA LISTA - insert(indice,parametro)\n",
        "frutas.insert(2, \"Jaca\")\n",
        "\n",
        "frutas\n",
        "\n",
        "# ADICIONANDO UMA LISTA COMPLEMENTANDO A OUTRA - .extend()\n",
        "frutas1 = [\"Banana\", \"Abacate\"]\n",
        "frutas2 = [\"Uva\", \"Jaca\"]\n",
        "\n",
        "frutas1.extend(frutas2)\n",
        "\n",
        "# REMOVER UM ELEMENTO DE UMA LISTA - .pop() - remove pelo índice\n",
        "frutas1.pop(3)\n",
        "\n",
        "frutas1\n",
        "\n",
        "# REMOVER UM ELEMENTO DE UMA LISTA - del - remove pelo indice mas tomar cuidado pq pode deletar a lista pra sempre\n",
        "\n",
        "del frutas\n",
        "\n",
        "# REMOVER UM ELEMENTO DE UMA LISTA - .remove() - remove pelo nome/conteúdo\n",
        "frutas1.remove(\"Abacate\")\n",
        "\n",
        "frutas1\n",
        "\n",
        "# ZERAR A LISTA, DEIXA-LA EM BRANCO - .clear()\n",
        "frutas1.clear()\n",
        "\n",
        "# FAZER BACKUP DE UMA LISTA - .copy (CÓPIA) - bkp(espelhamento, todas as alterações refletem nela)\n",
        "frutas1 = [\"Banana\", \"Abacate\", \"Uva\", \"Jaca\"]\n",
        "\n",
        "frutas_bkp = frutas1.copy()\n",
        "\n",
        "frutas_bkp\n",
        "\n",
        "# PERCORRER OS ELEMENTOS DE UMA LISTA\n",
        "#1-\n",
        "frutas1 = [\"Banana\", \"Abacate\", \"Uva\", \"Jaca\"]\n",
        "\n",
        "for x in frutas1:\n",
        "  print(x, end=' ')\n",
        "\n",
        "#2- len()\n",
        "\n",
        "for i in range(len(frutas1)):\n",
        "  print(frutas1[i])\n",
        "\n",
        "#ou\n",
        "\n",
        "while i < len(frutas1):\n",
        "  print(frutas1[i])\n",
        "  i += 1\n",
        "\n",
        "# ORDEM (A-Z, 1-10,10-1,Z-A) - sort()\n",
        "\n",
        "frutas1 = [\"Banana\", \"Abacate\", \"Uva\", \"Jaca\"]\n",
        "\n",
        "frutas1.sort()\n",
        "\n",
        "frutas1\n",
        "\n",
        "# ordenação decrescente:\n",
        "\n",
        "frutas1.sort(reverse=True)\n",
        "\n",
        "frutas1\n",
        "\n",
        "#ou\n",
        "\n",
        "frutas1.reverse()\n",
        "\n",
        "print(frutas1)\n",
        "\n"
      ],
      "metadata": {
        "id": "u0mJfOfta0v2"
      },
      "execution_count": null,
      "outputs": []
    },
    {
      "cell_type": "code",
      "source": [
        "# 1) Faça um programa que leia uma lista de 5 números inteiros e mostre-os:\n",
        "\n",
        "numeros = []\n",
        "\n",
        "for i in range(1, 6):\n",
        "  n = int(input(f\"Digite o {i}º número: \"))\n",
        "  numeros.append(n)\n",
        "\n",
        "for i in numeros:\n",
        "  print(i)\n",
        " "
      ],
      "metadata": {
        "id": "pox5E-9qrpFb"
      },
      "execution_count": null,
      "outputs": []
    },
    {
      "cell_type": "code",
      "source": [
        "# 2) Faça um Programa que leia uma lista de 10 números reais e mostre-os na ordem inversa.\n",
        "\n",
        "numeros = []\n",
        "\n",
        "for i in range(1, 11):\n",
        "  n = float(input(f\"Digite o {i}º número: \"))\n",
        "  numeros.append(n)\n",
        "\n",
        "numeros.reverse()\n",
        "print(numeros)\n"
      ],
      "metadata": {
        "id": "x_ar8h1WrpHJ"
      },
      "execution_count": null,
      "outputs": []
    },
    {
      "cell_type": "code",
      "source": [
        "# OU\n",
        "\n",
        "numeros = []\n",
        "\n",
        "for i in range(1, 11):\n",
        "  n = float(input(f\"Digite o {i}º número: \"))\n",
        "  numeros.append(n)\n",
        "\n",
        "#numeros[inicio:fim:passo]\n",
        "\n",
        "numeros[::-1] # fatiamento de listas"
      ],
      "metadata": {
        "id": "LK4s9_-VLgJm"
      },
      "execution_count": null,
      "outputs": []
    },
    {
      "cell_type": "code",
      "source": [
        "# 3) Faça um Programa que leia 4 notas de aluno e armazene-as dentro de uma lista. Em seguida mostre as notas e a média das notas na tela.\n",
        "\n",
        "soma = 0\n",
        "lista_notas = []\n",
        "\n",
        "for i in range(1, 5):\n",
        "  nota = float(input(f\"Digite a {i}ª nota: \"))\n",
        "  while nota < 0 or nota > 10:\n",
        "    nota = float(input(f\"Nota inválida. Digite a {i}ª nota de 0 a 10: \"))\n",
        "  soma += nota\n",
        "  lista_notas.append(nota)\n",
        "\n",
        "media = soma / i\n",
        "print(lista_notas)\n",
        "print(media)\n",
        "\n"
      ],
      "metadata": {
        "id": "rl_FXCC7v9nH"
      },
      "execution_count": null,
      "outputs": []
    },
    {
      "cell_type": "code",
      "source": [
        "# OU\n",
        "\n",
        "soma = 0\n",
        "lista_notas = []\n",
        "\n",
        "for i in range(1, 5):\n",
        "  nota = float(input(f\"Digite a {i}ª nota: \"))\n",
        "  while nota < 0 or nota > 10:\n",
        "    nota = float(input(f\"Nota inválida. Digite a {i}ª nota de 0 a 10: \"))\n",
        "\n",
        "  lista_notas.append(nota)\n",
        "\n",
        "for c in lista_notas:\n",
        "  soma += c\n",
        "\n",
        "media = soma / len(lista_notas)\n",
        "\n",
        "print(lista_notas)\n",
        "print(f\"A média das notas digitadas foi {media:.2f}.\")"
      ],
      "metadata": {
        "id": "vW-36q8XO2b2"
      },
      "execution_count": null,
      "outputs": []
    },
    {
      "cell_type": "code",
      "source": [
        "# 4) Faça um Programa que leia 20 números inteiros e armazene-os numa lista. Em seguida, crie mais 2 listas, uma para armazenar os números pares e outra para armazenar os números impares. Ao final, Imprima as três listas.\n",
        "\n",
        "numeros = []\n",
        "pares = []\n",
        "impares = []\n",
        "\n",
        "for i in range(1, 21):\n",
        "  n = int(input(f\"Digite o {i}º número: \"))\n",
        "  numeros.append(n)\n",
        "\n",
        "  if n % 2 == 0:\n",
        "    pares.append(n)\n",
        "  else:\n",
        "    impares.append(n)\n",
        "\n",
        "print(f\"Lista com todos os números:\", numeros)\n",
        "print(f\"Lista com os números pares:\", pares)\n",
        "print(f\"Lista com os números ímpares:\", impares)\n",
        "\n"
      ],
      "metadata": {
        "id": "mvpy_Sj_0Xkv"
      },
      "execution_count": null,
      "outputs": []
    },
    {
      "cell_type": "code",
      "source": [
        "# 5) Faça um Programa que peça as quatro notas de 10 alunos junto com o seu nome. Calcule e armazene numa lista a média de cada aluno, bem como em outra lista armazene o nome do aluno. Ao final imprima o número de alunos com média maior ou igual a 7.0 junto com o seu nome e a média.\n",
        "\n",
        "media_aluno = []\n",
        "lista_nome = []\n",
        "acima_da_media = 0\n",
        "\n",
        "for i in range(1, 5):\n",
        "  soma = 0\n",
        "  nome = input(f\"Digite o nome do {i}º aluno: \")\n",
        "  lista_nome.append(nome)\n",
        "  for j in range(1, 5):\n",
        "    nota = float(input(f\"Digite a {j}ª nota: \"))\n",
        "    while nota < 0 or nota > 10:\n",
        "      nota = float(input(f\"Nota inválida. Digite a {j}ª nota de 0 a 10: \"))\n",
        "    soma += nota\n",
        "    \n",
        "  media = soma / j\n",
        "  media_aluno.append(media)\n",
        "\n",
        "for i in range(len(media_aluno)):\n",
        "  if media_aluno[i] >= 7:\n",
        "    print(\"Nome: \", lista_nome[i])\n",
        "    print(\"Média: \", media_aluno[i])\n",
        "    acima_da_media += 1\n",
        "\n",
        "print(f\"A quantidade de alunos acima da média 7 é: {acima_da_media}.\")\n"
      ],
      "metadata": {
        "id": "DfyC_qay1_rJ"
      },
      "execution_count": null,
      "outputs": []
    },
    {
      "cell_type": "code",
      "source": [
        "# Como eu fiz primeiro:\n",
        "\n",
        "media_aluno = []\n",
        "lista_nome = []\n",
        "aprovados = []\n",
        "\n",
        "\n",
        "for i in range(1, 11):\n",
        "  soma = 0\n",
        "  nome = input(f\"Digite o nome do {i}º aluno: \")\n",
        "  lista_nome.append(nome)\n",
        "  for j in range(1, 5):\n",
        "    nota = float(input(f\"Digite a {j}ª nota: \"))\n",
        "    while nota < 0 or nota > 10:\n",
        "      nota = float(input(f\"Nota inválida. Digite a {j}ª nota de 0 a 10: \"))\n",
        "    soma += nota\n",
        "    \n",
        "  media = soma / j\n",
        "  media_aluno.append(media)\n",
        "\n",
        "  if media >= 7:\n",
        "    aprovados.append(nome)\n",
        "    aprovados.append(media)\n",
        "\n",
        "print(f\" Número de alunos com média maior ou igual a 7: {round(len(aprovados)/2)}.\")\n",
        "\n",
        "for x in aprovados:\n",
        "  print(x, end=' ')"
      ],
      "metadata": {
        "id": "euH-gIjNX5p1"
      },
      "execution_count": null,
      "outputs": []
    },
    {
      "cell_type": "code",
      "source": [
        "# 6) Faça um Programa que leia uma lista de 5 números inteiros. Após, percorra a lista e calcule a soma e a multiplicação dos números. Ao final, mostre os números lidos, a soma dos números e a multiplicação entre eles.\n",
        "\n",
        "numeros = []\n",
        "soma = 0\n",
        "mult = 1\n",
        "\n",
        "for i in range(1, 6):\n",
        "  n = int(input(f\"Digite o {i}º número: \"))\n",
        "  numeros.append(n)\n",
        "  soma += n\n",
        "  mult *= n\n",
        "\n",
        "print(\"Lista de números:\", numeros)\n",
        "print(f\"A soma dos números digitados é {soma}.\")\n",
        "print(f\"A multiplicação dos números é {mult}.\")\n"
      ],
      "metadata": {
        "id": "Ra490pRcBuDS"
      },
      "execution_count": null,
      "outputs": []
    },
    {
      "cell_type": "code",
      "source": [
        "# 7) Faça um Programa que leia uma lista A com 10 números inteiros, calcule e mostre a soma dos quadrados dos elementos da lista.\n",
        "\n",
        "numeros = []\n",
        "quadrados = []\n",
        "\n",
        "for i in range(1, 11):\n",
        "  n = int(input(f\"Digite o {i}º número: \"))\n",
        "  numeros.append(n)\n",
        "\n",
        "for numero in numeros:\n",
        "  quadrados.append(numero**2)\n",
        "\n",
        "soma= 0\n",
        "\n",
        "for quadrado in quadrados:\n",
        "  soma += quadrado\n",
        "\n",
        "print(\"Lista:\", numeros)\n",
        "print(\"Quadrados:\", quadrados)\n",
        "print(f\"A soma dos quadrados dos elementos da lista é {soma}.\")\n",
        "\n"
      ],
      "metadata": {
        "id": "NdYNqvD9DPkY"
      },
      "execution_count": null,
      "outputs": []
    },
    {
      "cell_type": "code",
      "source": [
        "# 8) Faça um programa que leia o nome, a idade e a altura de 10 alunos da SoulCode. Em seguida determine quantos alunos com mais de 13 anos possuem altura inferior à média de altura desses alunos.\n",
        "\n",
        "lista_nome = []\n",
        "lista_idade = []\n",
        "lista_altura = []\n",
        "soma_altura = 0\n",
        "mais_baixos = 0\n",
        "\n",
        "\n",
        "for i in range(1, 11):\n",
        "  nome = input(f\"Digite o nome do {i}º aluno: \")\n",
        "  lista_nome.append(nome)\n",
        "  idade = int(input(f\"Digite a idade de {nome}: \"))\n",
        "  lista_idade.append(idade)\n",
        "  altura = float(input(f\"Digite a altura de {nome}: \"))\n",
        "  lista_altura.append(altura)\n",
        "\n",
        "for valor in lista_altura:\n",
        "  soma_altura += valor\n",
        "  \n",
        "media_alturas = soma_altura/len(lista_altura)\n",
        "\n",
        "for i in range(10):\n",
        "  if lista_idade[i] > 13 and lista_altura[i] < media_alturas\n",
        "  mais_baixos += 1\n",
        "\n",
        "print(lista_nome)\n",
        "print(lista_idade)\n",
        "print(lista_altura)\n",
        "print(f\"A quantidade de alunos maiores que 13 anos e menores que a média {media_alturas} é {mais_baixos}.\")\n",
        "\n",
        "\n"
      ],
      "metadata": {
        "id": "2eSj_JafXgpL"
      },
      "execution_count": null,
      "outputs": []
    },
    {
      "cell_type": "code",
      "source": [
        "# 9) Escreva um algoritmo em python que leia um número N positivo e preencha uma lista com os N primeiros números da sequência de Fibonacci\n",
        "#A sequência é a seguinte: 1 1 2 3 5 8 13 21 34 55 89 …\n",
        "# No final, apresente a lista na tela\n",
        "\n",
        "fibonacci = []\n",
        "\n",
        "n = int(input(\"Digite a quantidade de elementos da lista: \"))\n",
        "\n",
        "t1 = int(input(\"Primeiro número: \"))\n",
        "t2 = t1\n",
        "fibonacci.append(t1)\n",
        "fibonacci.append(t2)\n",
        "\n",
        "count = 3\n",
        "\n",
        "while count <= n:\n",
        "  t3 = t1 + t2\n",
        "  fibonacci.append(t3)\n",
        "  t1 = t2\n",
        "  t2 = t3\n",
        "  count += 1\n",
        "\n",
        "\n",
        "print(fibonacci)\n",
        "\n",
        "\n"
      ],
      "metadata": {
        "id": "7453E5lJDWzd"
      },
      "execution_count": null,
      "outputs": []
    }
  ]
}