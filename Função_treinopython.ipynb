{
  "nbformat": 4,
  "nbformat_minor": 0,
  "metadata": {
    "colab": {
      "provenance": [],
      "authorship_tag": "ABX9TyOn86aFJimrhAaOjhRc69sv",
      "include_colab_link": true
    },
    "kernelspec": {
      "name": "python3",
      "display_name": "Python 3"
    },
    "language_info": {
      "name": "python"
    }
  },
  "cells": [
    {
      "cell_type": "markdown",
      "metadata": {
        "id": "view-in-github",
        "colab_type": "text"
      },
      "source": [
        "<a href=\"https://colab.research.google.com/github/larigioad/treino_python/blob/main/Fun%C3%A7%C3%A3o_treinopython.ipynb\" target=\"_parent\"><img src=\"https://colab.research.google.com/assets/colab-badge.svg\" alt=\"Open In Colab\"/></a>"
      ]
    },
    {
      "cell_type": "code",
      "execution_count": null,
      "metadata": {
        "id": "BLG3CQRWGtV-"
      },
      "outputs": [],
      "source": [
        "# 1) Construa um algoritmo em Python que leia dois valores numéricos inteiros e efetue a adição dos mesmo através de uma função. Caso o resultado seja maior que 10, apresentá-lo a partir da própria função. \n",
        "\n",
        "def soma():\n",
        "  n1 = int(input(\"Digite o primeiro número: \"))\n",
        "  n2 = int(input(\"Digite o segundo número: \"))\n",
        "  adicao = n1 + n2\n",
        "  if adicao > 10:\n",
        "    print(adicao)\n",
        "\n",
        "soma()\n"
      ]
    },
    {
      "cell_type": "code",
      "source": [
        "# 2) Construa um algoritmo em Python que leia um número inteiro N e através de uma função, exiba na tela se o número lido é PAR ou ÍMPAR.\n",
        "\n",
        "def par_impar():\n",
        "  n = int(input(\"Digite um número e veja se é par ou ímpar: \"))\n",
        "  if n % 2 == 0:\n",
        "    print(f\"O número {n} é par.\")\n",
        "  else:\n",
        "    print(f\"O número {n} é ímpar.\")\n",
        "\n",
        "par_impar()\n"
      ],
      "metadata": {
        "id": "WhZIDdr7PjhR"
      },
      "execution_count": null,
      "outputs": []
    },
    {
      "cell_type": "code",
      "source": [
        "# 3) Escreva um algoritmo em Python que leia um número inteiro qualquer. Em seguida, utilizando uma função, verifique se o mesmo é maior do que 20. Caso seja, retorne a mensagem 'Maior que 20' para uma variável e exiba a variável na tela.\n",
        "# Caso não seja, retorne a mensagem 'Menor que 20' para a mesma variável e a exiba na tela.\n",
        "\n",
        "def maior_que_vinte(numero):\n",
        "  if numero > 20:\n",
        "    return 'Maior que 20'\n",
        "    print(numero)\n",
        "  else:\n",
        "    return 'Menor que 20'\n",
        "    print(numero)\n",
        "\n",
        "numero = int(input(\"Digite um número: \"))\n",
        "\n",
        "maior_que_vinte(numero)\n"
      ],
      "metadata": {
        "id": "f7qmyNYuQPEu"
      },
      "execution_count": null,
      "outputs": []
    },
    {
      "cell_type": "code",
      "source": [
        "# 4) Escreva um algoritmo em Python que leia um número N e envie por argumentos para uma função. Dentro da função verifique se o número lido é POSITIVO, NEGATIVO ou NULO. Retorne essa informação para uma variável do programa principal. Em seguida, exiba essa variável na tela.\n",
        "\n",
        "def checagem(numero):\n",
        "  if numero > 0:\n",
        "    return 'POSITIVO'\n",
        "  elif numero < 0:\n",
        "    return 'NEGATIVO'\n",
        "  else:\n",
        "    return 'NULO'\n",
        "\n",
        "numero = int(input(\"Digite um número: \"))\n",
        "\n",
        "retorno = checagem(numero)\n",
        "\n",
        "print(retorno)\n"
      ],
      "metadata": {
        "id": "O9h5bJPeReOs"
      },
      "execution_count": null,
      "outputs": []
    },
    {
      "cell_type": "code",
      "source": [
        "# 5) Escreva um algoritmo em Python que receba um número N inteiro e positivo. Em seguida, envie o número por um argumento para uma função que verifique se o número lido “é múltiplo de 3” ou “não é múltiplo de 3”. Retorne essa mensagem para uma variável no programa principal e a exiba na tela.\n",
        "\n",
        "def multiplo(numero):\n",
        "  if numero % 3 == 0:\n",
        "    return f\"{numero} é múltiplo de 3.\"\n",
        "    print(numero)\n",
        "  else:\n",
        "    return f\"{numero} não é múltiplo de 3.\"\n",
        "    print(numero)\n",
        "\n",
        "n = int(input(\"Digite um número: \"))\n",
        "\n",
        "print()\n"
      ],
      "metadata": {
        "id": "MntJDBinTYVK"
      },
      "execution_count": null,
      "outputs": []
    },
    {
      "cell_type": "code",
      "source": [
        "# 6) Faça um programa que leia um número n e imprima a seguinte saída na tela: \n",
        "'''\n",
        "1\n",
        "2 2\n",
        "3 3 3\n",
        "4 4 4 4\n",
        "5 5 5 5 5\n",
        "n n n n n ...... n\n",
        "'''\n",
        "\n",
        "def piramide(n):\n",
        "  for i in range(n):\n",
        "    i += 1\n",
        "    print(f'{i * (\" \" + str(i))}')\n",
        "\n",
        "n = int(input(\"Digite um número: \"))\n",
        "\n",
        "piramide(n)\n"
      ],
      "metadata": {
        "id": "87q56Z1DTa8o"
      },
      "execution_count": null,
      "outputs": []
    },
    {
      "cell_type": "code",
      "source": [
        "# 7) Faça um programa que leia um número n e imprima a seguinte saída na tela: \n",
        "'''\n",
        "1\n",
        "1 2\n",
        "1 2 3\n",
        "1 2 3 4\n",
        "1 2 3 4 5\n",
        "n n n n n ...... n\n",
        "'''\n",
        "def piramide(n):\n",
        "  lista = []\n",
        "  for i in range(1, n+1):\n",
        "    lista.append(i)\n",
        "    for valor in lista:\n",
        "      print(valor, end = ' ')\n",
        "    print()\n",
        "\n",
        "\n",
        "numero = int(input('Digite um número positivo: '))\n",
        "while num <= 0:\n",
        "  numero = int(input('Digite um número positivo: '))\n",
        "\n",
        "piramide(numero)"
      ],
      "metadata": {
        "colab": {
          "base_uri": "https://localhost:8080/"
        },
        "id": "q6XUCk1xTeTQ",
        "outputId": "a0684b77-6921-4a1c-e9a5-8c50af5e98c1"
      },
      "execution_count": null,
      "outputs": [
        {
          "output_type": "stream",
          "name": "stdout",
          "text": [
            "Digite um número positivo: 10\n",
            "1 \n",
            "1 2 \n",
            "1 2 3 \n",
            "1 2 3 4 \n",
            "1 2 3 4 5 \n",
            "1 2 3 4 5 6 \n",
            "1 2 3 4 5 6 7 \n",
            "1 2 3 4 5 6 7 8 \n",
            "1 2 3 4 5 6 7 8 9 \n",
            "1 2 3 4 5 6 7 8 9 10 \n"
          ]
        }
      ]
    },
    {
      "cell_type": "code",
      "source": [
        "'''(8) Faça um programa que use a função valorPagamento para determinar o valor a ser pago por uma prestação de uma conta.\n",
        " O programa deverá solicitar ao usuário o valor da prestação e o número de dias em atraso e passar estes valores para a\n",
        " função valorPagamento, que calculará o valor a ser pago e devolverá este valor ao programa que a chamou. O programa \n",
        "deverá então exibir o valor a ser pago na tela. Após a execução o programa deverá voltar a pedir outro valor de\n",
        " prestação e assim continuar até que seja informado um valor igual a zero para a prestação. Neste momento o programa\n",
        " deverá ser encerrado, exibindo o relatório do dia, que conterá a quantidade e o valor total de prestações pagas no dia.\n",
        " O cálculo do valor a ser pago é feito da seguinte forma. Para pagamentos sem atraso, cobrar o valor da prestação.\n",
        " Quando houver atraso, cobrar 3% de multa, mais 0,1% de juros por dia de atraso.'''\n",
        "\n",
        "def valorPagamento(valor, dias):\n",
        "  if dias == 0:\n",
        "    valor_a_pagar = valor\n",
        "    print(f\"Valor a ser pago: R${valor_a_pagar}.\")\n",
        "  else:\n",
        "    valor += (valor * 3/100) + ((valor * 1/1000) * dias)\n",
        "    valor_a_pagar = valor\n",
        "    print(f\"Valor a ser pago: R${valor_a_pagar}.\")\n",
        "  return valor_a_pagar\n",
        "\n",
        "\n",
        "lista_prestacoes = []\n",
        "cont = 0\n",
        "while True:\n",
        "  prestacao = float(input(\"Digite o valor da prestação: \"))\n",
        "  if prestacao == 0:\n",
        "    break\n",
        "  atraso = int(input(\"Digite o número de dias em atraso: \"))\n",
        "\n",
        "  valor_a_pagar = valorPagamento(prestacao, atraso)\n",
        "  lista_prestacoes.append(valor_a_pagar)\n",
        "  cont += 1\n",
        "\n",
        "print(f\"Você pagou o total de R${sum(lista_prestacoes)} hoje.\")\n",
        "\n"
      ],
      "metadata": {
        "id": "nltHqbDdThcT"
      },
      "execution_count": null,
      "outputs": []
    },
    {
      "cell_type": "code",
      "source": [],
      "metadata": {
        "colab": {
          "base_uri": "https://localhost:8080/"
        },
        "id": "_-5xT_n2jfr4",
        "outputId": "167d25af-4e8d-4175-ccf8-585d425f53eb"
      },
      "execution_count": null,
      "outputs": [
        {
          "output_type": "stream",
          "name": "stdout",
          "text": [
            "Digite um número: 6\n",
            " 1\n",
            " 2 2\n",
            " 3 3 3\n",
            " 4 4 4 4\n",
            " 5 5 5 5 5\n",
            " 6 6 6 6 6 6\n"
          ]
        }
      ]
    }
  ]
}